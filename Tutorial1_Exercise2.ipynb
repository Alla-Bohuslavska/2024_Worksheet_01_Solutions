{
 "cells": [
  {
   "cell_type": "markdown",
   "id": "80a81377-4311-4e61-b53c-925da48110e3",
   "metadata": {
    "editable": true,
    "slideshow": {
     "slide_type": ""
    },
    "tags": []
   },
   "source": [
    "Solution exercise 2:"
   ]
  },
  {
   "cell_type": "code",
   "execution_count": 3,
   "id": "16a24ba2-419c-44d8-9dea-aee68ef292a7",
   "metadata": {
    "editable": true,
    "slideshow": {
     "slide_type": ""
    },
    "tags": []
   },
   "outputs": [],
   "source": [
    "data <- read.csv(\"env.csv\")"
   ]
  },
  {
   "cell_type": "code",
   "execution_count": 5,
   "id": "0ce9660c-eecf-43c0-994e-3424a72aaf70",
   "metadata": {},
   "outputs": [
    {
     "data": {
      "text/html": [
       "<table class=\"dataframe\">\n",
       "<caption>A data.frame: 6 × 7</caption>\n",
       "<thead>\n",
       "\t<tr><th></th><th scope=col>X</th><th scope=col>Aspect</th><th scope=col>Slope</th><th scope=col>Form</th><th scope=col>PhysD</th><th scope=col>ZoogD</th><th scope=col>Snow</th></tr>\n",
       "\t<tr><th></th><th scope=col>&lt;chr&gt;</th><th scope=col>&lt;int&gt;</th><th scope=col>&lt;int&gt;</th><th scope=col>&lt;int&gt;</th><th scope=col>&lt;int&gt;</th><th scope=col>&lt;chr&gt;</th><th scope=col>&lt;int&gt;</th></tr>\n",
       "</thead>\n",
       "<tbody>\n",
       "\t<tr><th scope=row>1</th><td>AR07</td><td>7</td><td> 2</td><td>1</td><td>50</td><td>no</td><td>140</td></tr>\n",
       "\t<tr><th scope=row>2</th><td>AR71</td><td>1</td><td>35</td><td>3</td><td>40</td><td>no</td><td>140</td></tr>\n",
       "\t<tr><th scope=row>3</th><td>AR26</td><td>5</td><td> 0</td><td>3</td><td>20</td><td>no</td><td>140</td></tr>\n",
       "\t<tr><th scope=row>4</th><td>AR54</td><td>9</td><td>30</td><td>3</td><td>80</td><td>no</td><td>140</td></tr>\n",
       "\t<tr><th scope=row>5</th><td>AR60</td><td>9</td><td> 5</td><td>1</td><td>80</td><td>no</td><td>140</td></tr>\n",
       "\t<tr><th scope=row>6</th><td>AR70</td><td>1</td><td>30</td><td>3</td><td>40</td><td>no</td><td>140</td></tr>\n",
       "</tbody>\n",
       "</table>\n"
      ],
      "text/latex": [
       "A data.frame: 6 × 7\n",
       "\\begin{tabular}{r|lllllll}\n",
       "  & X & Aspect & Slope & Form & PhysD & ZoogD & Snow\\\\\n",
       "  & <chr> & <int> & <int> & <int> & <int> & <chr> & <int>\\\\\n",
       "\\hline\n",
       "\t1 & AR07 & 7 &  2 & 1 & 50 & no & 140\\\\\n",
       "\t2 & AR71 & 1 & 35 & 3 & 40 & no & 140\\\\\n",
       "\t3 & AR26 & 5 &  0 & 3 & 20 & no & 140\\\\\n",
       "\t4 & AR54 & 9 & 30 & 3 & 80 & no & 140\\\\\n",
       "\t5 & AR60 & 9 &  5 & 1 & 80 & no & 140\\\\\n",
       "\t6 & AR70 & 1 & 30 & 3 & 40 & no & 140\\\\\n",
       "\\end{tabular}\n"
      ],
      "text/markdown": [
       "\n",
       "A data.frame: 6 × 7\n",
       "\n",
       "| <!--/--> | X &lt;chr&gt; | Aspect &lt;int&gt; | Slope &lt;int&gt; | Form &lt;int&gt; | PhysD &lt;int&gt; | ZoogD &lt;chr&gt; | Snow &lt;int&gt; |\n",
       "|---|---|---|---|---|---|---|---|\n",
       "| 1 | AR07 | 7 |  2 | 1 | 50 | no | 140 |\n",
       "| 2 | AR71 | 1 | 35 | 3 | 40 | no | 140 |\n",
       "| 3 | AR26 | 5 |  0 | 3 | 20 | no | 140 |\n",
       "| 4 | AR54 | 9 | 30 | 3 | 80 | no | 140 |\n",
       "| 5 | AR60 | 9 |  5 | 1 | 80 | no | 140 |\n",
       "| 6 | AR70 | 1 | 30 | 3 | 40 | no | 140 |\n",
       "\n"
      ],
      "text/plain": [
       "  X    Aspect Slope Form PhysD ZoogD Snow\n",
       "1 AR07 7       2    1    50    no    140 \n",
       "2 AR71 1      35    3    40    no    140 \n",
       "3 AR26 5       0    3    20    no    140 \n",
       "4 AR54 9      30    3    80    no    140 \n",
       "5 AR60 9       5    1    80    no    140 \n",
       "6 AR70 1      30    3    40    no    140 "
      ]
     },
     "metadata": {},
     "output_type": "display_data"
    }
   ],
   "source": [
    "head(data)"
   ]
  },
  {
   "cell_type": "code",
   "execution_count": 6,
   "id": "5d788e0a-74c2-4147-bbd7-bae5a94a6201",
   "metadata": {},
   "outputs": [],
   "source": [
    "t <- table(data$ZoogD,data$Form)"
   ]
  },
  {
   "cell_type": "code",
   "execution_count": 7,
   "id": "d72675ee-97ce-47ae-aadb-a899b26784b8",
   "metadata": {},
   "outputs": [
    {
     "data": {
      "text/plain": [
       "      \n",
       "        1  2  3  4  5\n",
       "  high  1  1  5  3  2\n",
       "  no    9  2 11  3 10\n",
       "  some  9  4  6  5  4"
      ]
     },
     "metadata": {},
     "output_type": "display_data"
    }
   ],
   "source": [
    "t"
   ]
  },
  {
   "cell_type": "code",
   "execution_count": 9,
   "id": "1cac9746-240f-4c76-aaba-cf7797e66e65",
   "metadata": {},
   "outputs": [
    {
     "data": {
      "text/html": [
       "<style>\n",
       ".dl-inline {width: auto; margin:0; padding: 0}\n",
       ".dl-inline>dt, .dl-inline>dd {float: none; width: auto; display: inline-block}\n",
       ".dl-inline>dt::after {content: \":\\0020\"; padding-right: .5ex}\n",
       ".dl-inline>dt:not(:first-of-type) {padding-left: .5ex}\n",
       "</style><dl class=dl-inline><dt>1</dt><dd>19</dd><dt>2</dt><dd>7</dd><dt>3</dt><dd>22</dd><dt>4</dt><dd>11</dd><dt>5</dt><dd>16</dd></dl>\n"
      ],
      "text/latex": [
       "\\begin{description*}\n",
       "\\item[1] 19\n",
       "\\item[2] 7\n",
       "\\item[3] 22\n",
       "\\item[4] 11\n",
       "\\item[5] 16\n",
       "\\end{description*}\n"
      ],
      "text/markdown": [
       "1\n",
       ":   192\n",
       ":   73\n",
       ":   224\n",
       ":   115\n",
       ":   16\n",
       "\n"
      ],
      "text/plain": [
       " 1  2  3  4  5 \n",
       "19  7 22 11 16 "
      ]
     },
     "metadata": {},
     "output_type": "display_data"
    }
   ],
   "source": [
    "colSums(t)"
   ]
  },
  {
   "cell_type": "code",
   "execution_count": 10,
   "id": "026e64e9-c23a-4a6d-a12d-50df3e921ca2",
   "metadata": {},
   "outputs": [
    {
     "data": {
      "text/html": [
       "<style>\n",
       ".dl-inline {width: auto; margin:0; padding: 0}\n",
       ".dl-inline>dt, .dl-inline>dd {float: none; width: auto; display: inline-block}\n",
       ".dl-inline>dt::after {content: \":\\0020\"; padding-right: .5ex}\n",
       ".dl-inline>dt:not(:first-of-type) {padding-left: .5ex}\n",
       "</style><dl class=dl-inline><dt>high</dt><dd>12</dd><dt>no</dt><dd>35</dd><dt>some</dt><dd>28</dd></dl>\n"
      ],
      "text/latex": [
       "\\begin{description*}\n",
       "\\item[high] 12\n",
       "\\item[no] 35\n",
       "\\item[some] 28\n",
       "\\end{description*}\n"
      ],
      "text/markdown": [
       "high\n",
       ":   12no\n",
       ":   35some\n",
       ":   28\n",
       "\n"
      ],
      "text/plain": [
       "high   no some \n",
       "  12   35   28 "
      ]
     },
     "metadata": {},
     "output_type": "display_data"
    }
   ],
   "source": [
    "rowSums(t)"
   ]
  }
 ],
 "metadata": {
  "kernelspec": {
   "display_name": "R",
   "language": "R",
   "name": "ir"
  },
  "language_info": {
   "codemirror_mode": "r",
   "file_extension": ".r",
   "mimetype": "text/x-r-source",
   "name": "R",
   "pygments_lexer": "r",
   "version": "4.3.3"
  }
 },
 "nbformat": 4,
 "nbformat_minor": 5
}
