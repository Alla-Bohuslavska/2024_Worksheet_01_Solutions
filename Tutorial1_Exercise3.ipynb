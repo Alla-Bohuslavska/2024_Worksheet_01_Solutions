{
 "cells": [
  {
   "cell_type": "markdown",
   "id": "4c7dc32a-1fb5-455b-a097-0dc2db1c13e6",
   "metadata": {
    "editable": true,
    "slideshow": {
     "slide_type": ""
    },
    "tags": []
   },
   "source": [
    "Solution exercise 3:"
   ]
  },
  {
   "cell_type": "code",
   "execution_count": 2,
   "id": "0ade3534-bc56-4ac3-b640-5a7f4d13995f",
   "metadata": {},
   "outputs": [
    {
     "data": {
      "text/html": [
       "90"
      ],
      "text/latex": [
       "90"
      ],
      "text/markdown": [
       "90"
      ],
      "text/plain": [
       "[1] 90"
      ]
     },
     "metadata": {},
     "output_type": "display_data"
    },
    {
     "data": {
      "text/html": [
       "91.2448979591837"
      ],
      "text/latex": [
       "91.2448979591837"
      ],
      "text/markdown": [
       "91.2448979591837"
      ],
      "text/plain": [
       "[1] 91.2449"
      ]
     },
     "metadata": {},
     "output_type": "display_data"
    }
   ],
   "source": [
    "data(ChickWeight)\n",
    "x <- ChickWeight$weight[ChickWeight$Time==8]\n",
    "median(x)\n",
    "mean(x)"
   ]
  }
 ],
 "metadata": {
  "kernelspec": {
   "display_name": "R",
   "language": "R",
   "name": "ir"
  },
  "language_info": {
   "codemirror_mode": "r",
   "file_extension": ".r",
   "mimetype": "text/x-r-source",
   "name": "R",
   "pygments_lexer": "r",
   "version": "4.3.3"
  }
 },
 "nbformat": 4,
 "nbformat_minor": 5
}
